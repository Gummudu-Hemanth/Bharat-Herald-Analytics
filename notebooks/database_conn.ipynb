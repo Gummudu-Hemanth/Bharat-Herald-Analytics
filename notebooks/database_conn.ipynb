{
 "cells": [
  {
   "cell_type": "code",
   "execution_count": 19,
   "id": "a8ee781a",
   "metadata": {},
   "outputs": [],
   "source": [
    "from sqlalchemy import create_engine\n",
    "import pandas as pd\n",
    "import os\n",
    "from dotenv import dotenv_values\n",
    "import urllib.parse"
   ]
  },
  {
   "cell_type": "code",
   "execution_count": 20,
   "id": "1ea0ffbb",
   "metadata": {},
   "outputs": [
    {
     "name": "stdout",
     "output_type": "stream",
     "text": [
      "Database connection successful.\n",
      "Uploading cleaned_ad_category.xlsx to table ad_category...\n",
      "Uploaded cleaned_ad_category.xlsx to table ad_category successfully.\n",
      "Uploading cleaned_ad_revenue.csv to table ad_revenue...\n",
      "Uploaded cleaned_ad_revenue.csv to table ad_revenue successfully.\n",
      "Uploading cleaned_city_data.xlsx to table city_data...\n",
      "Uploaded cleaned_city_data.xlsx to table city_data successfully.\n",
      "Uploading cleaned_digital_plot.csv to table digital_plot...\n",
      "Uploaded cleaned_digital_plot.csv to table digital_plot successfully.\n",
      "Uploading cleaned_print_sales.xlsx to table print_sales...\n",
      "Uploaded cleaned_print_sales.xlsx to table print_sales successfully.\n"
     ]
    }
   ],
   "source": [
    "def upload_data_to_mysql():\n",
    "\t# Load env variables\n",
    "\tconfig = dotenv_values(r'C:\\Users\\GUMMUDU HEMANTH\\Bharat-Herald-Analytics\\.env')\n",
    "\n",
    "\t# Database connection parameters\n",
    "\tdb_user = config.get(\"DB_USER\")\n",
    "\tdb_password = config.get(\"DB_PASSWORD\")\n",
    "\tdb_host = config.get(\"DB_HOST\")\n",
    "\tdb_name = config.get(\"DB_NAME\")\n",
    "\n",
    "\tdb_password_encoded = urllib.parse.quote_plus(db_password)\n",
    "\n",
    "\ttry:\n",
    "\t\tengine = create_engine(f'mysql+pymysql://{db_user}:{db_password_encoded}@{db_host}/{db_name}')\n",
    "\t\tprint(\"Database connection successful.\")\n",
    "\n",
    "\t\t# Folder contaning clenaed data\n",
    "\t\tcleaned_data_folder = r'C:\\Users\\GUMMUDU HEMANTH\\Bharat-Herald-Analytics\\data_cleaned'\n",
    "\n",
    "\t\t# Dictionary mapping file names to table names\n",
    "\t\tdatasets_to_upload = {\n",
    "\t\t\t'cleaned_ad_category.xlsx' : 'ad_category',\n",
    "\t\t\t'cleaned_ad_revenue.csv' : 'ad_revenue',\n",
    "\t\t\t'cleaned_city_data.xlsx' : 'city_data',\n",
    "\t\t\t'cleaned_digital_plot.csv' : 'digital_plot',\n",
    "\t\t\t'cleaned_print_sales.xlsx' : 'print_sales'\n",
    "\t\t}\n",
    "\n",
    "\t\tfor filename , table_name in datasets_to_upload.items():\n",
    "\t\t\tfile_path = os.path.join(cleaned_data_folder, filename)\n",
    "\n",
    "\t\t\tif not os.path.exists(file_path):\n",
    "\t\t\t\tprint(f\"File {filename} does not exist in the specified folder.\")\n",
    "\t\t\t\tcontinue\n",
    "\n",
    "\t\t\tprint(f\"Uploading {filename} to table {table_name}...\")\n",
    "\n",
    "\t\t\tif filename.endswith('.csv'):\n",
    "\t\t\t\tdf = pd.read_csv(file_path)\n",
    "\t\t\telif filename.endswith('.xlsx'):\n",
    "\t\t\t\tdf = pd.read_excel(file_path)\n",
    "\t\t\telse:\n",
    "\t\t\t\tprint(f\"Unsupported file format for {filename}. Skipping.\")\n",
    "\t\t\t\tcontinue\n",
    "\n",
    "\t\t\tdf.to_sql(name=table_name, con=engine, if_exists='replace', index=False)\n",
    "\t\t\tprint(f\"Uploaded {filename} to table {table_name} successfully.\")\n",
    "\n",
    "\texcept Exception as e:\n",
    "\t\tprint(f\"An error occurred: {e}\")\n",
    "\n",
    "upload_data_to_mysql()"
   ]
  },
  {
   "cell_type": "code",
   "execution_count": null,
   "id": "6c7ebed2",
   "metadata": {},
   "outputs": [],
   "source": []
  }
 ],
 "metadata": {
  "kernelspec": {
   "display_name": "venv",
   "language": "python",
   "name": "python3"
  },
  "language_info": {
   "codemirror_mode": {
    "name": "ipython",
    "version": 3
   },
   "file_extension": ".py",
   "mimetype": "text/x-python",
   "name": "python",
   "nbconvert_exporter": "python",
   "pygments_lexer": "ipython3",
   "version": "3.11.0"
  }
 },
 "nbformat": 4,
 "nbformat_minor": 5
}
